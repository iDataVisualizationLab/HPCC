{
 "cells": [
  {
   "cell_type": "code",
   "execution_count": 6,
   "metadata": {},
   "outputs": [],
   "source": [
    "import sys\n",
    "\n",
    "sys.path.insert(0, './site-packages')\n",
    "\n",
    "from pandas import read_excel\n",
    "import pandas as pd\n",
    "import sklearn\n",
    "from sklearn.model_selection import train_test_split\n",
    "import numpy as np # linear algebra\n",
    "import shap\n",
    "import lightgbm as lgb\n",
    "from sklearn.metrics import accuracy_score\n",
    "import os\n",
    "from datetime import datetime\n",
    "import matplotlib.pyplot as plt\n",
    "import pickle\n",
    "\n",
    "\n",
    "file_name = '814_821_2020.csv' # change it to the name of your excel file\n",
    "# file_name = '9214_9215_2020.csv'\n",
    "label = \"user\""
   ]
  },
  {
   "cell_type": "code",
   "execution_count": 7,
   "metadata": {},
   "outputs": [],
   "source": [
    "### read data\n",
    "df_all = pd.read_csv(file_name)\n"
   ]
  },
  {
   "cell_type": "code",
   "execution_count": 16,
   "metadata": {},
   "outputs": [
    {
     "data": {
      "text/plain": [
       "<matplotlib.axes._subplots.AxesSubplot at 0x16e8c988788>"
      ]
     },
     "execution_count": 16,
     "metadata": {},
     "output_type": "execute_result"
    },
    {
     "data": {
      "image/png": "[encoded data removed]",
      "text/plain": [
       "<Figure size 432x288 with 1 Axes>"
      ]
     },
     "metadata": {
      "needs_background": "light"
     },
     "output_type": "display_data"
    }
   ],
   "source": [
    "usergroup = df_all.groupby(by=\"user\").count()\n",
    "usergroup['CPU1 Temp'].hist()"
   ]
  },
  {
   "cell_type": "code",
   "execution_count": null,
   "metadata": {},
   "outputs": [],
   "source": []
  },
  {
   "cell_type": "code",
   "execution_count": 17,
   "metadata": {},
   "outputs": [],
   "source": [
    "sub_name='_hge_fmolajaf'\n",
    "df = df_all[(df_all['user']=='hge') | (df_all['user']=='fmolajaf')]"
   ]
  },
  {
   "cell_type": "code",
   "execution_count": 18,
   "metadata": {},
   "outputs": [
    {
     "data": {
      "text/html": [
       "<div>\n",
       "<style scoped>\n",
       "    .dataframe tbody tr th:only-of-type {\n",
       "        vertical-align: middle;\n",
       "    }\n",
       "\n",
       "    .dataframe tbody tr th {\n",
       "        vertical-align: top;\n",
       "    }\n",
       "\n",
       "    .dataframe thead th {\n",
       "        text-align: right;\n",
       "    }\n",
       "</style>\n",
       "<table border=\"1\" class=\"dataframe\">\n",
       "  <thead>\n",
       "    <tr style=\"text-align: right;\">\n",
       "      <th></th>\n",
       "      <th>CPU1 Temp</th>\n",
       "      <th>CPU2 Temp</th>\n",
       "      <th>Inlet Temp</th>\n",
       "      <th>Memory usage</th>\n",
       "      <th>Fan1 speed</th>\n",
       "      <th>Fan2 speed</th>\n",
       "      <th>Fan3 speed</th>\n",
       "      <th>Fan4 speed</th>\n",
       "      <th>Power consumption</th>\n",
       "    </tr>\n",
       "    <tr>\n",
       "      <th>user</th>\n",
       "      <th></th>\n",
       "      <th></th>\n",
       "      <th></th>\n",
       "      <th></th>\n",
       "      <th></th>\n",
       "      <th></th>\n",
       "      <th></th>\n",
       "      <th></th>\n",
       "      <th></th>\n",
       "    </tr>\n",
       "  </thead>\n",
       "  <tbody>\n",
       "    <tr>\n",
       "      <th>fmolajaf</th>\n",
       "      <td>495374</td>\n",
       "      <td>495374</td>\n",
       "      <td>495374</td>\n",
       "      <td>495374</td>\n",
       "      <td>495374</td>\n",
       "      <td>495374</td>\n",
       "      <td>495374</td>\n",
       "      <td>495374</td>\n",
       "      <td>491458</td>\n",
       "    </tr>\n",
       "    <tr>\n",
       "      <th>hge</th>\n",
       "      <td>377894</td>\n",
       "      <td>377894</td>\n",
       "      <td>377894</td>\n",
       "      <td>377894</td>\n",
       "      <td>377894</td>\n",
       "      <td>377894</td>\n",
       "      <td>377894</td>\n",
       "      <td>377894</td>\n",
       "      <td>375936</td>\n",
       "    </tr>\n",
       "  </tbody>\n",
       "</table>\n",
       "</div>"
      ],
      "text/plain": [
       "          CPU1 Temp  CPU2 Temp  Inlet Temp  Memory usage  Fan1 speed  \\\n",
       "user                                                                   \n",
       "fmolajaf     495374     495374      495374        495374      495374   \n",
       "hge          377894     377894      377894        377894      377894   \n",
       "\n",
       "          Fan2 speed  Fan3 speed  Fan4 speed  Power consumption  \n",
       "user                                                             \n",
       "fmolajaf      495374      495374      495374             491458  \n",
       "hge           377894      377894      377894             375936  "
      ]
     },
     "execution_count": 18,
     "metadata": {},
     "output_type": "execute_result"
    }
   ],
   "source": [
    "df.groupby(by=\"user\").count()"
   ]
  },
  {
   "cell_type": "code",
   "execution_count": 19,
   "metadata": {},
   "outputs": [],
   "source": [
    "def create_folder(dirName): \n",
    "    try:\n",
    "        # Create target Directory\n",
    "        os.mkdir(dirName)\n",
    "        print(\"Directory \" , dirName ,  \" Created \") \n",
    "    except FileExistsError:\n",
    "        print(\"Directory \" , dirName ,  \" already exists\")"
   ]
  },
  {
   "cell_type": "code",
   "execution_count": 20,
   "metadata": {},
   "outputs": [
    {
     "name": "stderr",
     "output_type": "stream",
     "text": [
      "\n",
      "A value is trying to be set on a copy of a slice from a DataFrame.\n",
      "Try using .loc[row_indexer,col_indexer] = value instead\n",
      "\n",
      "See the caveats in the documentation: https://pandas.pydata.org/pandas-docs/stable/user_guide/indexing.html#returning-a-view-versus-a-copy\n"
     ]
    }
   ],
   "source": [
    "categorical_cols = ['user']\n",
    "\n",
    "\n",
    "from sklearn import preprocessing\n",
    "\n",
    "le_dict = dict()\n",
    "for c in categorical_cols:\n",
    "    le = preprocessing.LabelEncoder()\n",
    "    \n",
    "    df[c] = le.fit_transform(df[c].astype(str))\n",
    "    le_dict[c]= le\n",
    "\n",
    "\n",
    "    \n",
    "# today = datetime(2020, 5, 1)\n",
    "# df[\"EVENT_DATE\"] = (today - df['EVENT_DATE']).dt.days\n",
    "# df[\"DISC_TIME\"] = df['DISC_TIME'].dt.hour"
   ]
  },
  {
   "cell_type": "code",
   "execution_count": 21,
   "metadata": {},
   "outputs": [
    {
     "name": "stdout",
     "output_type": "stream",
     "text": [
      "num_classes 2\n"
     ]
    }
   ],
   "source": [
    "num_classes = df[label].nunique()\n",
    "print(\"num_classes\", num_classes)\n",
    "\n",
    "\n",
    "feature_cols = list(df.columns)\n",
    "feature_cols.remove(label)\n",
    "\n",
    "random_seed = 2020\n",
    "\n",
    "early_stopping = 200\n",
    "try:\n",
    "    X_train, X_valid, y_train, y_valid = train_test_split(df[feature_cols], df[label], test_size=0.3, random_state=random_seed, stratify = df[label])\n",
    "except:\n",
    "    X_train, X_valid, y_train, y_valid = train_test_split(df[feature_cols], df[label], test_size=0.3, random_state=random_seed)\n",
    "\n",
    "X_total = df[feature_cols]\n",
    "y_total = df[label]\n",
    "\n",
    "if num_classes == 2:\n",
    "    metric = \"binary_logloss\"\n",
    "    objective = \"binary\"\n",
    "    eval_metric= \"binary_logloss\"\n",
    "else:\n",
    "    metric = \"multi_logloss\"\n",
    "    objective = \"multiclass\"\n",
    "    eval_metric= \"multi_logloss\"\n",
    "\n",
    "\n",
    "## prepare the model\n",
    "lgb_params = {'num_iteration':20,\n",
    "    'boosting_type':'gbdt', 'colsample_bytree':0.6,\n",
    "    'importance_type':'gain', 'learning_rate':0.005, 'max_depth':5,\n",
    "    'min_child_samples':10, # 'min_child_weight':0.001, 'min_split_gain':0.0,\n",
    "    'n_estimators':8000, 'n_jobs': 16, 'num_leaves':20, 'subsample_freq':10,\n",
    "    'seed': random_seed, 'reg_alpha':0.0, 'reg_lambda':0.0, 'silent':True,\n",
    "    'subsample':0.85, 'subsample_for_bin':200000,  \"metric\":metric ,'objective':objective\n",
    "}\n",
    "\n",
    "lgb_model = lgb.LGBMClassifier(**lgb_params)\n",
    "record_store = dict()\n"
   ]
  },
  {
   "cell_type": "code",
   "execution_count": 22,
   "metadata": {},
   "outputs": [
    {
     "name": "stderr",
     "output_type": "stream",
     "text": [
      "Found `num_iteration` in params. Will use it instead of argument\n"
     ]
    },
    {
     "name": "stdout",
     "output_type": "stream",
     "text": [
      "Training until validation scores don't improve for 200 rounds\n",
      "Did not meet early stopping. Best iteration is:\n",
      "[20]\ttrain's binary_logloss: 0.6811\tvalid's binary_logloss: 0.681141\n",
      "accuracy =  0.5672645739910314\n"
     ]
    },
    {
     "name": "stderr",
     "output_type": "stream",
     "text": [
      "Setting feature_perturbation = \"tree_path_dependent\" because no background data was given.\n",
      "LightGBM binary classifier with TreeExplainer shap values output has changed to a list of ndarray\n"
     ]
    },
    {
     "ename": "AttributeError",
     "evalue": "'str' object has no attribute 'spli'",
     "output_type": "error",
     "traceback": [
      "\u001b[1;31m---------------------------------------------------------------------------\u001b[0m",
      "\u001b[1;31mAttributeError\u001b[0m                            Traceback (most recent call last)",
      "\u001b[1;32m<ipython-input-22-08377b811521>\u001b[0m in \u001b[0;36m<module>\u001b[1;34m\u001b[0m\n\u001b[0;32m     25\u001b[0m \u001b[0mshap_importance\u001b[0m \u001b[1;33m=\u001b[0m \u001b[0mshap_importance\u001b[0m\u001b[1;33m.\u001b[0m\u001b[0mreindex\u001b[0m\u001b[1;33m(\u001b[0m\u001b[0mtmp\u001b[0m\u001b[1;33m)\u001b[0m\u001b[1;33m\u001b[0m\u001b[1;33m\u001b[0m\u001b[0m\n\u001b[0;32m     26\u001b[0m \u001b[1;33m\u001b[0m\u001b[0m\n\u001b[1;32m---> 27\u001b[1;33m \u001b[0moutput\u001b[0m \u001b[1;33m=\u001b[0m \u001b[1;34m\"output\"\u001b[0m\u001b[1;33m+\u001b[0m\u001b[0mfile_name\u001b[0m\u001b[1;33m.\u001b[0m\u001b[0mspli\u001b[0m\u001b[1;33m(\u001b[0m\u001b[1;34m'.'\u001b[0m\u001b[1;33m)\u001b[0m\u001b[1;33m[\u001b[0m\u001b[1;36m0\u001b[0m\u001b[1;33m]\u001b[0m\u001b[1;33m\u001b[0m\u001b[1;33m\u001b[0m\u001b[0m\n\u001b[0m\u001b[0;32m     28\u001b[0m \u001b[0mcreate_folder\u001b[0m\u001b[1;33m(\u001b[0m\u001b[0moutput\u001b[0m\u001b[1;33m)\u001b[0m\u001b[1;33m\u001b[0m\u001b[1;33m\u001b[0m\u001b[0m\n\u001b[0;32m     29\u001b[0m \u001b[1;33m\u001b[0m\u001b[0m\n",
      "\u001b[1;31mAttributeError\u001b[0m: 'str' object has no attribute 'spli'"
     ]
    }
   ],
   "source": [
    "lgb_model.fit( X=X_total, y=y_total, feature_name = feature_cols, #categorical_feature = cate_cols, \n",
    "              early_stopping_rounds= early_stopping, eval_set=[(X_train, y_train), (X_valid, y_valid)], \n",
    "              eval_names=[\"train\", \"valid\"],\n",
    "              eval_metric= eval_metric, \n",
    "              verbose = -1, callbacks = [lgb.record_evaluation(record_store)])\n",
    "\n",
    "\n",
    "pred_y = lgb_model.predict(X_total)\n",
    "print(\"accuracy = \", accuracy_score(y_total, pred_y))\n",
    "\n",
    "explainer = shap.TreeExplainer(lgb_model)\n",
    "shap_values = explainer.shap_values(X=X_total, y=X_total)\n",
    "\n",
    "shap_values_np = np.array(shap_values)\n",
    "\n",
    "shap_importance = pd.DataFrame({\"feature_name\": feature_cols})\n",
    "\n",
    "class_order = lgb_model.classes_\n",
    "\n",
    "for i, class_name in enumerate(class_order):\n",
    "    shap_class_i = pd.DataFrame({\"feature_name\": feature_cols, class_name: np.abs(shap_values[i]).sum(axis=0)})\n",
    "    shap_importance = pd.merge(shap_importance, shap_class_i, on=\"feature_name\", how=\"inner\")\n",
    "\n",
    "tmp = shap_importance.drop(\"feature_name\", 1).sum(axis=1).sort_values(ascending=True).index\n",
    "shap_importance = shap_importance.reindex(tmp)\n",
    "\n",
    "output = \"output\"+file_name.split('.')[0]+sub_name\n",
    "create_folder(output)\n",
    "\n",
    "with open(f'{output}/label_encoder_dict.pkl', 'wb') as handle:\n",
    "    pickle.dump(le_dict, handle, protocol=pickle.HIGHEST_PROTOCOL)\n",
    "    \n",
    "    \n",
    "shap_importance.to_csv(f\"{output}/shap_variable_full.csv\")\n",
    "\n",
    "shap.summary_plot(shap_values, X_total, max_display =  len(feature_cols), show=False, \n",
    "              plot_type = \"bar\",\n",
    "                 class_names=class_order)\n",
    "plt.savefig(f\"{output}/BAR_PLOT\", bbox_inches='tight')\n",
    "plt.close()\n",
    "\n",
    "for i, class_name in enumerate(class_order):\n",
    "    shap.summary_plot(shap_values[i], X_total, max_display =  len(feature_cols), show=False, \n",
    "              plot_type = \"dot\",\n",
    "              class_names=lgb_model.classes_)\n",
    "    plt.savefig(f\"{output}/{class_name}\", bbox_inches='tight')\n",
    "    plt.close()\n",
    "    \n",
    "    print(\"\\n\")\n",
    "    \n",
    "print(f\"Get the result at {os.getcwd()}/{output}\")\n",
    "        \n",
    "\n",
    "shap_importance\n",
    "\n",
    "\n",
    "\n",
    "\n"
   ]
  },
  {
   "cell_type": "code",
   "execution_count": null,
   "metadata": {},
   "outputs": [],
   "source": [
    "output = \"output\"\n",
    "    \n",
    "    \n",
    "shap_importance=pd.read_csv(f\"{output}/shap_variable_full.csv\",index_col = \"Unnamed: 0\")\n",
    "ordinalColumns = shap_importance.columns.values\n",
    "ordinalColumns[1:len(le_dict['user'].classes_)+1] = le_dict['user'].classes_\n",
    "shap_importance.columns = ordinalColumns\n",
    "num_classes = df[label].nunique()"
   ]
  },
  {
   "cell_type": "code",
   "execution_count": null,
   "metadata": {},
   "outputs": [],
   "source": [
    "shap_importance=shap_importance.sort_index()"
   ]
  },
  {
   "cell_type": "code",
   "execution_count": null,
   "metadata": {},
   "outputs": [],
   "source": [
    "shap_importance"
   ]
  },
  {
   "cell_type": "code",
   "execution_count": null,
   "metadata": {},
   "outputs": [],
   "source": [
    "import plotly.graph_objects as go\n",
    "x = shap_importance.columns.values[1:len(shap_importance.columns.values)]\n",
    "\n",
    "fig = go.Figure()\n",
    "for i in range(shap_importance.shape[0]):\n",
    "    fig.add_trace(go.Bar(x=x, y=shap_importance.iloc[i, 1:], name=shap_importance.iloc[i, 0]))\n",
    "\n",
    "\n",
    "fig.update_layout(barmode='relative', title_text='Feature importance for each user, colored by health metrics',   \n",
    "        yaxis=dict(\n",
    "        title='importance value',\n",
    "    ),   xaxis=dict(\n",
    "        title='User',\n",
    "    ))\n",
    "fig.show()\n"
   ]
  },
  {
   "cell_type": "code",
   "execution_count": null,
   "metadata": {},
   "outputs": [],
   "source": [
    "import plotly.offline as pyo\n",
    "pyo.plot(fig, filename=f\"{output}/{file_name.split('.')[0]}_UservsMetric.html\")"
   ]
  },
  {
   "cell_type": "code",
   "execution_count": null,
   "metadata": {},
   "outputs": [],
   "source": [
    "import plotly.graph_objects as go\n",
    "x = shap_importance['feature_name']\n",
    "\n",
    "fig = go.Figure()\n",
    "label = shap_importance.columns.values\n",
    "for i in range(1,len(shap_importance.columns.values)):\n",
    "    fig.add_trace(go.Bar(x=x, y=shap_importance.iloc[0:, i], name=label[i]))\n",
    "\n",
    "\n",
    "fig.update_layout(barmode='relative', title_text='Feature importance for each Health metric, colored by users',   \n",
    "        yaxis=dict(\n",
    "        title='importance value',\n",
    "    ),   xaxis=dict(\n",
    "        title='Health metrics',\n",
    "    ))\n",
    "fig.show()\n"
   ]
  },
  {
   "cell_type": "code",
   "execution_count": null,
   "metadata": {},
   "outputs": [],
   "source": [
    "import plotly.offline as pyo\n",
    "pyo.plot(fig, filename=f\"{output}/{file_name.split('.')[0]}_Metricvsuser.html\")"
   ]
  },
  {
   "cell_type": "code",
   "execution_count": null,
   "metadata": {},
   "outputs": [],
   "source": []
  }
 ],
 "metadata": {
  "hide_input": false,
  "kernelspec": {
   "display_name": "Python 3",
   "language": "python",
   "name": "python3"
  },
  "language_info": {
   "codemirror_mode": {
    "name": "ipython",
    "version": 3
   },
   "file_extension": ".py",
   "mimetype": "text/x-python",
   "name": "python",
   "nbconvert_exporter": "python",
   "pygments_lexer": "ipython3",
   "version": "3.7.4"
  },
  "toc": {
   "base_numbering": 1,
   "nav_menu": {},
   "number_sections": true,
   "sideBar": true,
   "skip_h1_title": false,
   "title_cell": "Table of Contents",
   "title_sidebar": "Contents",
   "toc_cell": false,
   "toc_position": {},
   "toc_section_display": true,
   "toc_window_display": false
  }
 },
 "nbformat": 4,
 "nbformat_minor": 4
}
